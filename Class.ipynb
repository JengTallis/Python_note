{
 "cells": [
  {
   "cell_type": "markdown",
   "metadata": {},
   "source": [
    "# Python Class method vs. Static method"
   ]
  },
  {
   "cell_type": "markdown",
   "metadata": {},
   "source": [
    "With classmethods, the class of the object instance is implicitly passed as the first argument instead of self"
   ]
  },
  {
   "cell_type": "code",
   "execution_count": null,
   "metadata": {},
   "outputs": [],
   "source": [
    "class C(object):\n",
    "    @classmethod\n",
    "    def foo(cls, arg1, arg2, ...):\n",
    "       ...\n",
    "returns: a class method for function foo."
   ]
  },
  {
   "cell_type": "markdown",
   "metadata": {},
   "source": [
    "With staticmethods, neither self (the object instance) nor  cls (the class) is implicitly passed as the first argument. Sataticmethods are like plain functions except that they are called from an instance or the class"
   ]
  },
  {
   "cell_type": "code",
   "execution_count": null,
   "metadata": {},
   "outputs": [],
   "source": [
    "class C(object):\n",
    "    @staticmethod\n",
    "    def foo(arg1, arg2, ...):\n",
    "        ...\n",
    "returns: a static method for function foo."
   ]
  },
  {
   "cell_type": "markdown",
   "metadata": {},
   "source": [
    "Below is a comparison of different function signatures:"
   ]
  },
  {
   "cell_type": "code",
   "execution_count": 19,
   "metadata": {},
   "outputs": [],
   "source": [
    "class A(object):\n",
    "    def foo(self,x): # The object instance a is implicitly passed as the first argument\n",
    "        print (\"executing foo %s, %s\" %(self,x))\n",
    "\n",
    "    @classmethod\n",
    "    def class_foo(cls,x): # class of the object instance is implicitly passed as the first argument\n",
    "        print (\"executing class_foo %s, %s\" %(cls,x))\n",
    "\n",
    "    @staticmethod\n",
    "    def static_foo(x): # neither self (object instance) nor cls (class) is implicitly passed as the first argument\n",
    "        print (\"executing static_foo, %s\" %x) \n"
   ]
  },
  {
   "cell_type": "code",
   "execution_count": 23,
   "metadata": {
    "scrolled": true
   },
   "outputs": [
    {
     "name": "stdout",
     "output_type": "stream",
     "text": [
      "executing class_foo <class '__main__.A'>, calling class method without instance\n"
     ]
    }
   ],
   "source": [
    "A.class_foo(\"calling class method without instance\")"
   ]
  },
  {
   "cell_type": "code",
   "execution_count": 20,
   "metadata": {},
   "outputs": [
    {
     "name": "stdout",
     "output_type": "stream",
     "text": [
      "executing foo <__main__.A object at 0x106b98518>, foo from instnce\n"
     ]
    }
   ],
   "source": [
    "a=A()\n",
    "a.foo(\"foo from instnce\")"
   ]
  },
  {
   "cell_type": "code",
   "execution_count": 21,
   "metadata": {},
   "outputs": [
    {
     "name": "stdout",
     "output_type": "stream",
     "text": [
      "executing class_foo <class '__main__.A'>, class_foo from instance\n",
      "executing class_foo <class '__main__.A'>, class_foo from class\n"
     ]
    }
   ],
   "source": [
    "a.class_foo(\"class_foo from instance\")\n",
    "A.class_foo(\"class_foo from class\")"
   ]
  },
  {
   "cell_type": "code",
   "execution_count": 22,
   "metadata": {},
   "outputs": [
    {
     "name": "stdout",
     "output_type": "stream",
     "text": [
      "executing static_foo, static_foo from instance\n",
      "executing static_foo, static_foo from class\n"
     ]
    }
   ],
   "source": [
    "a.static_foo(\"static_foo from instance\")\n",
    "A.static_foo(\"static_foo from class\")"
   ]
  },
  {
   "cell_type": "code",
   "execution_count": null,
   "metadata": {},
   "outputs": [],
   "source": []
  }
 ],
 "metadata": {
  "kernelspec": {
   "display_name": "Python 3",
   "language": "python",
   "name": "python3"
  },
  "language_info": {
   "codemirror_mode": {
    "name": "ipython",
    "version": 3
   },
   "file_extension": ".py",
   "mimetype": "text/x-python",
   "name": "python",
   "nbconvert_exporter": "python",
   "pygments_lexer": "ipython3",
   "version": "3.6.5"
  }
 },
 "nbformat": 4,
 "nbformat_minor": 2
}
